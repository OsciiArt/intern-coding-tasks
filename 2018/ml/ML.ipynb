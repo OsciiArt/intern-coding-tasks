{
 "cells": [
  {
   "cell_type": "code",
   "execution_count": 1,
   "metadata": {
    "collapsed": true
   },
   "outputs": [],
   "source": [
    "import math\n",
    "\n",
    "def add(x, y):\n",
    "    output = x.copy()\n",
    "    for i in range(len(x)):\n",
    "        output[i] += y[i]\n",
    "    return output"
   ]
  },
  {
   "cell_type": "code",
   "execution_count": 2,
   "metadata": {
    "collapsed": false
   },
   "outputs": [
    {
     "name": "stdout",
     "output_type": "stream",
     "text": [
      "************************************\n",
      "test function of Sum of vectors\n",
      "x =\n",
      "[0.0, 1.0, 2.0, 3.0]\n",
      "y =\n",
      "[4.0, 5.0, 6.0, 7.0]\n",
      "add(x, y) =\n",
      "[4.0, 6.0, 8.0, 10.0]\n",
      "************************************\n"
     ]
    }
   ],
   "source": [
    "    x = [i + 0. for i in range(4)]\n",
    "    y = [i + 4. for i in range(4)]\n",
    "    z = [i - 2. for i in range(4)]\n",
    "    A = [[i * 4. + j for j in range(4)] for i in range(3)]\n",
    "    print(\"************************************\")\n",
    "\n",
    "    print(\"test function of Sum of vectors\")\n",
    "    print(\"x =\")\n",
    "    print(x)\n",
    "    print(\"y =\")\n",
    "    print(y)\n",
    "    print(\"add(x, y) =\")\n",
    "    print(add(x, y))\n",
    "    # print(x + y)\n",
    "    print(\"************************************\")"
   ]
  },
  {
   "cell_type": "code",
   "execution_count": 3,
   "metadata": {
    "collapsed": true
   },
   "outputs": [],
   "source": [
    "def matmul(A, x):\n",
    "    \"\"\"\n",
    "    A: 行列\n",
    "    B: 列ベクトル\n",
    "    \n",
    "    \"\"\"\n",
    "    output = [0] * len(A)\n",
    "    for i in range(len(A)):\n",
    "        for j in range(len(A[0])):\n",
    "            output[i] += A[i][j]*x[j]\n",
    "    return output\n"
   ]
  },
  {
   "cell_type": "code",
   "execution_count": 4,
   "metadata": {
    "collapsed": false
   },
   "outputs": [
    {
     "name": "stdout",
     "output_type": "stream",
     "text": [
      "test function of Vector-matrix product\n",
      "A =\n",
      "[[0.0, 1.0, 2.0, 3.0], [4.0, 5.0, 6.0, 7.0], [8.0, 9.0, 10.0, 11.0]]\n",
      "x =\n",
      "[0.0, 1.0, 2.0, 3.0]\n",
      "matmul(A, x) =\n",
      "[14.0, 38.0, 62.0]\n",
      "************************************\n"
     ]
    }
   ],
   "source": [
    "print(\"test function of Vector-matrix product\")\n",
    "print(\"A =\")\n",
    "print(A)\n",
    "print(\"x =\")\n",
    "print(x)\n",
    "print(\"matmul(A, x) =\")\n",
    "print(matmul(A, x))\n",
    "# print(np.matmul(A, x))\n",
    "print(\"************************************\")"
   ]
  },
  {
   "cell_type": "code",
   "execution_count": 6,
   "metadata": {
    "collapsed": false
   },
   "outputs": [],
   "source": [
    "def transpose(A):\n",
    "    \"\"\"\n",
    "    A[i][j]のiとjを入れ替える\n",
    "    \"\"\"\n",
    "    # output = np.zeros([len(A[0]), len(A)])\n",
    "    output = [[0 for j in range(len(A))] for i in range(len(A[0]))]\n",
    "    for i in range(len(A)):\n",
    "        for j in range(len(A[0])):\n",
    "            output[j][i] = A[i][j]\n",
    "    return output"
   ]
  },
  {
   "cell_type": "code",
   "execution_count": 7,
   "metadata": {
    "collapsed": false
   },
   "outputs": [
    {
     "name": "stdout",
     "output_type": "stream",
     "text": [
      "test function of Transpose\n",
      "A =\n",
      "[[0.0, 1.0, 2.0, 3.0], [4.0, 5.0, 6.0, 7.0], [8.0, 9.0, 10.0, 11.0]]\n",
      "transpose(A) =\n",
      "[[0.0, 4.0, 8.0], [1.0, 5.0, 9.0], [2.0, 6.0, 10.0], [3.0, 7.0, 11.0]]\n",
      "************************************\n"
     ]
    }
   ],
   "source": [
    "print(\"test function of Transpose\")\n",
    "print(\"A =\")\n",
    "print(A)\n",
    "print(\"transpose(A) =\")\n",
    "print(transpose(A))\n",
    "# print(np.transpose(A))\n",
    "print(\"************************************\")"
   ]
  },
  {
   "cell_type": "code",
   "execution_count": 8,
   "metadata": {
    "collapsed": true
   },
   "outputs": [],
   "source": [
    "def relu(x):\n",
    "    output = x.copy()\n",
    "    for i in range(len(x)):\n",
    "        if x[i]>0: output[i] = x[i]\n",
    "        else: output[i] = 0\n",
    "    return output"
   ]
  },
  {
   "cell_type": "code",
   "execution_count": 9,
   "metadata": {
    "collapsed": false
   },
   "outputs": [
    {
     "name": "stdout",
     "output_type": "stream",
     "text": [
      "test function of ReLU\n",
      "z =\n",
      "[-2.0, -1.0, 0.0, 1.0]\n",
      "relu(z) =\n",
      "[0, 0, 0, 1.0]\n",
      "************************************\n"
     ]
    }
   ],
   "source": [
    "print(\"test function of ReLU\")\n",
    "print(\"z =\")\n",
    "print(z)\n",
    "print(\"relu(z) =\")\n",
    "print(relu(z))\n",
    "print(\"************************************\")"
   ]
  },
  {
   "cell_type": "code",
   "execution_count": 11,
   "metadata": {
    "collapsed": true
   },
   "outputs": [],
   "source": [
    "def softmax(x):\n",
    "    sum = 0.\n",
    "    for i in range(len(x)):\n",
    "        sum += math.e ** x[i]\n",
    "    output = x.copy()\n",
    "    for i in range(len(x)):\n",
    "        output[i] = math.e ** output[i] / sum\n",
    "    return output"
   ]
  },
  {
   "cell_type": "code",
   "execution_count": 12,
   "metadata": {
    "collapsed": false
   },
   "outputs": [
    {
     "name": "stdout",
     "output_type": "stream",
     "text": [
      "test function of Softmax\n",
      "x =\n",
      "[0.0, 1.0, 2.0, 3.0]\n",
      "softmax(x) =\n",
      "[0.03205860328008499, 0.08714431874203257, 0.23688281808991013, 0.6439142598879722]\n",
      "************************************\n"
     ]
    }
   ],
   "source": [
    "print(\"test function of Softmax\")\n",
    "print(\"x =\")\n",
    "print(x)\n",
    "print(\"softmax(x) =\")\n",
    "print(softmax(x))\n",
    "print(\"************************************\")"
   ]
  },
  {
   "cell_type": "code",
   "execution_count": 13,
   "metadata": {
    "collapsed": true
   },
   "outputs": [],
   "source": [
    "def backward(p, q):\n",
    "    output = p.copy()\n",
    "    for i in range(len(p)):\n",
    "        if q[i]>0:\n",
    "            output[i] = p[i]\n",
    "        else:\n",
    "            output[i] = 0\n",
    "    return output\n"
   ]
  },
  {
   "cell_type": "code",
   "execution_count": 14,
   "metadata": {
    "collapsed": false
   },
   "outputs": [
    {
     "name": "stdout",
     "output_type": "stream",
     "text": [
      "test function of Backward\n",
      "x =\n",
      "[0.0, 1.0, 2.0, 3.0]\n",
      "z =\n",
      "[-2.0, -1.0, 0.0, 1.0]\n",
      "backward(x, z) =\n",
      "[0, 0, 0, 3.0]\n",
      "************************************\n"
     ]
    }
   ],
   "source": [
    "print(\"test function of Backward\")\n",
    "print(\"x =\")\n",
    "print(x)\n",
    "print(\"z =\")\n",
    "print(z)\n",
    "print(\"backward(x, z) =\")\n",
    "print(backward(x, z))\n",
    "print(\"************************************\")"
   ]
  },
  {
   "cell_type": "code",
   "execution_count": 15,
   "metadata": {
    "collapsed": true
   },
   "outputs": [],
   "source": [
    "### 問題２\n",
    "def load_pgm(path):\n",
    "    lines = []\n",
    "    with open(path, 'r') as f:\n",
    "        for i, line in enumerate(f):\n",
    "            if i==0:\n",
    "                lines.append(line)\n",
    "            elif i==1 or i==2:\n",
    "                lines.extend(list(map(int, line.split())))\n",
    "            else:\n",
    "                lines.extend(list(map(float, line.split())))\n",
    "    # shape = lines[1:3]\n",
    "    color_range = lines[3]\n",
    "    factors = lines[4:]\n",
    "    for i in range(len(factors)):\n",
    "        factors[i] /= color_range\n",
    "    # factors = np.array(factors)\n",
    "    return factors"
   ]
  },
  {
   "cell_type": "code",
   "execution_count": 36,
   "metadata": {
    "collapsed": false
   },
   "outputs": [
    {
     "name": "stdout",
     "output_type": "stream",
     "text": [
      "loading files...\n"
     ]
    }
   ],
   "source": [
    "print(\"loading files...\")\n",
    "x = []\n",
    "for i in range(154):\n",
    "    x.append(load_pgm(\"pgm/{}.pgm\".format(i+1)))\n",
    "# print(x)"
   ]
  },
  {
   "cell_type": "code",
   "execution_count": 25,
   "metadata": {
    "collapsed": false
   },
   "outputs": [
    {
     "data": {
      "image/png": "[encoded data removed]",
      "text/plain": [
       "<matplotlib.figure.Figure at 0x1fa93706630>"
      ]
     },
     "metadata": {},
     "output_type": "display_data"
    }
   ],
   "source": [
    "# debug\n",
    "import numpy as np\n",
    "%matplotlib inline\n",
    "import matplotlib.pyplot as plt\n",
    "\n",
    "x_img = np.array(x[10])\n",
    "x_img = x_img.reshape(32,32)\n",
    "plt.imshow(x_img, cmap='gray')\n",
    "plt.show()\n"
   ]
  },
  {
   "cell_type": "code",
   "execution_count": 26,
   "metadata": {
    "collapsed": true
   },
   "outputs": [],
   "source": [
    "class Model():\n",
    "    def __init__(self, path):\n",
    "        H = 256\n",
    "        N = 1024\n",
    "        C = 23\n",
    "        lines = []\n",
    "        with open(path, 'r') as f:\n",
    "            for i, line in enumerate(f):\n",
    "                lines.extend(list(map(float, line.split())))\n",
    "        # lines = np.array(lines)\n",
    "        self.W_1 = lines[:H*N]\n",
    "        self.W_1 = [[self.W_1[i*N+j] for j in range(N)] for i in range(H)]\n",
    "        # self.W_1 = np.array(self.W_1)\n",
    "        self.b_1 = lines[H*N:H*N+H]\n",
    "        self.W_2 = lines[H*N+H:H*N+H+H*H]\n",
    "        self.W_2 = [[self.W_2[i*H+j] for j in range(H)] for i in range(H)]\n",
    "        # self.W_2 = np.array(self.W_2)\n",
    "        self.b_2 = lines[H*N+H+H*H:H*N+H+H*H+H]\n",
    "        self.W_3 = lines[H*N+H+H*H+H:H*N+H+H*H+H+C*H]\n",
    "        self.W_3 = [[self.W_3[i*H+j] for j in range(H)] for i in range(C)]\n",
    "        # self.W_3 = np.array(self.W_3)\n",
    "        self.b_3 = lines[H*N+H+H*H+H+C*H:H*N+H+H*H+H+C*H+C]\n",
    "\n",
    "    def predict(self, x):\n",
    "        self.a1 = p1.add(p1.matmul(self.W_1, x), self.b_1)\n",
    "        h1 = p1.relu(self.a1)\n",
    "        self.a2 = p1.add(p1.matmul(self.W_2, h1), self.b_2)\n",
    "        h2 = p1.relu(self.a2)\n",
    "        y = p1.add(p1.matmul(self.W_3, h2), self.b_3)\n",
    "        fx = p1.softmax(y)\n",
    "        \n",
    "\n",
    "    def fgsm(self, x, y, epsilon0):\n",
    "        return output\n",
    "\n",
    "\n",
    "    def fgsm2(self, x, y, k):\n",
    "\n",
    "        return output\n"
   ]
  },
  {
   "cell_type": "code",
   "execution_count": null,
   "metadata": {
    "collapsed": true
   },
   "outputs": [],
   "source": []
  },
  {
   "cell_type": "code",
   "execution_count": 33,
   "metadata": {
    "collapsed": false
   },
   "outputs": [
    {
     "name": "stdout",
     "output_type": "stream",
     "text": [
      "test start\n"
     ]
    }
   ],
   "source": [
    "print(\"test start\")\n",
    "\n",
    "# print(x)\n",
    "# x = x.reshape(32,32)\n",
    "# plt.imshow(x, cmap='gray')\n",
    "# plt.show()\n",
    "\n",
    "model = Model(\"param.txt\")\n"
   ]
  },
  {
   "cell_type": "code",
   "execution_count": 45,
   "metadata": {
    "collapsed": false
   },
   "outputs": [
    {
     "name": "stdout",
     "output_type": "stream",
     "text": [
      "[6.316813048250015e-08, 0.9998546272103033, 2.76905397866881e-09, 3.6631527109617993e-09, 7.248534311619665e-10, 6.430005144622735e-08, 3.363732384981204e-05, 1.294180335174575e-06, 9.618258832171431e-13, 2.7722607420580954e-09, 2.9526090774473865e-07, 1.1901875732001697e-05, 3.4105047901063806e-11, 1.5108985744505541e-05, 2.637052476943142e-07, 2.457108386855454e-05, 2.3262266091275992e-09, 2.763376761825967e-13, 3.0173401803551736e-11, 5.769791953688263e-05, 9.92763820249738e-08, 3.633460419635933e-07, 4.280430655976815e-11]\n"
     ]
    }
   ],
   "source": [
    "idx = 20\n",
    "a1 = matmul(model.W_1, x[idx])\n",
    "a1 = add(a1, model.b_1)\n",
    "h1 = relu(a1)\n",
    "a2 = add(matmul(model.W_2, h1), model.b_2)\n",
    "h2 = relu(a2)\n",
    "y = add(matmul(model.W_3, h2), model.b_3)\n",
    "fx = softmax(y)\n",
    "print(fx)"
   ]
  },
  {
   "cell_type": "code",
   "execution_count": 44,
   "metadata": {
    "collapsed": false
   },
   "outputs": [
    {
     "data": {
      "image/png": "[encoded data removed]",
      "text/plain": [
       "<matplotlib.figure.Figure at 0x1fa9328d828>"
      ]
     },
     "metadata": {},
     "output_type": "display_data"
    }
   ],
   "source": [
    "x_img = np.array(x[20])\n",
    "x_img = x_img.reshape(32,32)\n",
    "plt.imshow(x_img, cmap='gray')\n",
    "plt.show()"
   ]
  }
 ],
 "metadata": {
  "anaconda-cloud": {},
  "kernelspec": {
   "display_name": "Python [Root]",
   "language": "python",
   "name": "Python [Root]"
  },
  "language_info": {
   "codemirror_mode": {
    "name": "ipython",
    "version": 3
   },
   "file_extension": ".py",
   "mimetype": "text/x-python",
   "name": "python",
   "nbconvert_exporter": "python",
   "pygments_lexer": "ipython3",
   "version": "3.5.2"
  }
 },
 "nbformat": 4,
 "nbformat_minor": 0
}
