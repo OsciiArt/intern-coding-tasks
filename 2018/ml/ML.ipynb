{
 "cells": [
  {
   "cell_type": "code",
   "execution_count": 1,
   "metadata": {
    "collapsed": true
   },
   "outputs": [],
   "source": [
    "import math\n",
    "\n",
    "def add(x, y):\n",
    "    output = x.copy()\n",
    "    for i in range(len(x)):\n",
    "        output[i] += y[i]\n",
    "    return output"
   ]
  },
  {
   "cell_type": "code",
   "execution_count": 2,
   "metadata": {
    "collapsed": false
   },
   "outputs": [
    {
     "name": "stdout",
     "output_type": "stream",
     "text": [
      "************************************\n",
      "test function of Sum of vectors\n",
      "x =\n",
      "[0.0, 1.0, 2.0, 3.0]\n",
      "y =\n",
      "[4.0, 5.0, 6.0, 7.0]\n",
      "add(x, y) =\n",
      "[4.0, 6.0, 8.0, 10.0]\n",
      "************************************\n"
     ]
    }
   ],
   "source": [
    "    x = [i + 0. for i in range(4)]\n",
    "    y = [i + 4. for i in range(4)]\n",
    "    z = [i - 2. for i in range(4)]\n",
    "    A = [[i * 4. + j for j in range(4)] for i in range(3)]\n",
    "    print(\"************************************\")\n",
    "\n",
    "    print(\"test function of Sum of vectors\")\n",
    "    print(\"x =\")\n",
    "    print(x)\n",
    "    print(\"y =\")\n",
    "    print(y)\n",
    "    print(\"add(x, y) =\")\n",
    "    print(add(x, y))\n",
    "    # print(x + y)\n",
    "    print(\"************************************\")"
   ]
  },
  {
   "cell_type": "code",
   "execution_count": 3,
   "metadata": {
    "collapsed": true
   },
   "outputs": [],
   "source": [
    "def matmul(A, x):\n",
    "    \"\"\"\n",
    "    A: 行列\n",
    "    B: 列ベクトル\n",
    "    \n",
    "    \"\"\"\n",
    "    output = [0] * len(A)\n",
    "    for i in range(len(A)):\n",
    "        for j in range(len(A[0])):\n",
    "            output[i] += A[i][j]*x[j]\n",
    "    return output\n"
   ]
  },
  {
   "cell_type": "code",
   "execution_count": 4,
   "metadata": {
    "collapsed": false
   },
   "outputs": [
    {
     "name": "stdout",
     "output_type": "stream",
     "text": [
      "test function of Vector-matrix product\n",
      "A =\n",
      "[[0.0, 1.0, 2.0, 3.0], [4.0, 5.0, 6.0, 7.0], [8.0, 9.0, 10.0, 11.0]]\n",
      "x =\n",
      "[0.0, 1.0, 2.0, 3.0]\n",
      "matmul(A, x) =\n",
      "[14.0, 38.0, 62.0]\n",
      "************************************\n"
     ]
    }
   ],
   "source": [
    "print(\"test function of Vector-matrix product\")\n",
    "print(\"A =\")\n",
    "print(A)\n",
    "print(\"x =\")\n",
    "print(x)\n",
    "print(\"matmul(A, x) =\")\n",
    "print(matmul(A, x))\n",
    "# print(np.matmul(A, x))\n",
    "print(\"************************************\")"
   ]
  },
  {
   "cell_type": "code",
   "execution_count": 6,
   "metadata": {
    "collapsed": false
   },
   "outputs": [],
   "source": [
    "def transpose(A):\n",
    "    \"\"\"\n",
    "    A[i][j]のiとjを入れ替える\n",
    "    \"\"\"\n",
    "    # output = np.zeros([len(A[0]), len(A)])\n",
    "    output = [[0 for j in range(len(A))] for i in range(len(A[0]))]\n",
    "    for i in range(len(A)):\n",
    "        for j in range(len(A[0])):\n",
    "            output[j][i] = A[i][j]\n",
    "    return output"
   ]
  },
  {
   "cell_type": "code",
   "execution_count": 7,
   "metadata": {
    "collapsed": false
   },
   "outputs": [
    {
     "name": "stdout",
     "output_type": "stream",
     "text": [
      "test function of Transpose\n",
      "A =\n",
      "[[0.0, 1.0, 2.0, 3.0], [4.0, 5.0, 6.0, 7.0], [8.0, 9.0, 10.0, 11.0]]\n",
      "transpose(A) =\n",
      "[[0.0, 4.0, 8.0], [1.0, 5.0, 9.0], [2.0, 6.0, 10.0], [3.0, 7.0, 11.0]]\n",
      "************************************\n"
     ]
    }
   ],
   "source": [
    "print(\"test function of Transpose\")\n",
    "print(\"A =\")\n",
    "print(A)\n",
    "print(\"transpose(A) =\")\n",
    "print(transpose(A))\n",
    "# print(np.transpose(A))\n",
    "print(\"************************************\")"
   ]
  },
  {
   "cell_type": "code",
   "execution_count": 8,
   "metadata": {
    "collapsed": true
   },
   "outputs": [],
   "source": [
    "def relu(x):\n",
    "    output = x.copy()\n",
    "    for i in range(len(x)):\n",
    "        if x[i]>0: output[i] = x[i]\n",
    "        else: output[i] = 0\n",
    "    return output"
   ]
  },
  {
   "cell_type": "code",
   "execution_count": 9,
   "metadata": {
    "collapsed": false
   },
   "outputs": [
    {
     "name": "stdout",
     "output_type": "stream",
     "text": [
      "test function of ReLU\n",
      "z =\n",
      "[-2.0, -1.0, 0.0, 1.0]\n",
      "relu(z) =\n",
      "[0, 0, 0, 1.0]\n",
      "************************************\n"
     ]
    }
   ],
   "source": [
    "print(\"test function of ReLU\")\n",
    "print(\"z =\")\n",
    "print(z)\n",
    "print(\"relu(z) =\")\n",
    "print(relu(z))\n",
    "print(\"************************************\")"
   ]
  },
  {
   "cell_type": "code",
   "execution_count": 11,
   "metadata": {
    "collapsed": true
   },
   "outputs": [],
   "source": [
    "def softmax(x):\n",
    "    sum = 0.\n",
    "    for i in range(len(x)):\n",
    "        sum += math.e ** x[i]\n",
    "    output = x.copy()\n",
    "    for i in range(len(x)):\n",
    "        output[i] = math.e ** output[i] / sum\n",
    "    return output"
   ]
  },
  {
   "cell_type": "code",
   "execution_count": 12,
   "metadata": {
    "collapsed": false
   },
   "outputs": [
    {
     "name": "stdout",
     "output_type": "stream",
     "text": [
      "test function of Softmax\n",
      "x =\n",
      "[0.0, 1.0, 2.0, 3.0]\n",
      "softmax(x) =\n",
      "[0.03205860328008499, 0.08714431874203257, 0.23688281808991013, 0.6439142598879722]\n",
      "************************************\n"
     ]
    }
   ],
   "source": [
    "print(\"test function of Softmax\")\n",
    "print(\"x =\")\n",
    "print(x)\n",
    "print(\"softmax(x) =\")\n",
    "print(softmax(x))\n",
    "print(\"************************************\")"
   ]
  },
  {
   "cell_type": "code",
   "execution_count": null,
   "metadata": {
    "collapsed": true
   },
   "outputs": [],
   "source": []
  }
 ],
 "metadata": {
  "anaconda-cloud": {},
  "kernelspec": {
   "display_name": "Python [Root]",
   "language": "python",
   "name": "Python [Root]"
  },
  "language_info": {
   "codemirror_mode": {
    "name": "ipython",
    "version": 3
   },
   "file_extension": ".py",
   "mimetype": "text/x-python",
   "name": "python",
   "nbconvert_exporter": "python",
   "pygments_lexer": "ipython3",
   "version": "3.5.2"
  }
 },
 "nbformat": 4,
 "nbformat_minor": 0
}
