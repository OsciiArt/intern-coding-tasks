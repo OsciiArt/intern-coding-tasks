{
 "cells": [
  {
   "cell_type": "code",
   "execution_count": 1,
   "metadata": {
    "collapsed": true
   },
   "outputs": [],
   "source": [
    "import math\n",
    "\n",
    "def add(x, y):\n",
    "    output = x.copy()\n",
    "    for i in range(len(x)):\n",
    "        output[i] += y[i]\n",
    "    return output"
   ]
  },
  {
   "cell_type": "code",
   "execution_count": 2,
   "metadata": {
    "collapsed": false
   },
   "outputs": [
    {
     "name": "stdout",
     "output_type": "stream",
     "text": [
      "************************************\n",
      "test function of Sum of vectors\n",
      "x =\n",
      "[0.0, 1.0, 2.0, 3.0]\n",
      "y =\n",
      "[4.0, 5.0, 6.0, 7.0]\n",
      "add(x, y) =\n",
      "[4.0, 6.0, 8.0, 10.0]\n",
      "************************************\n"
     ]
    }
   ],
   "source": [
    "    x = [i + 0. for i in range(4)]\n",
    "    y = [i + 4. for i in range(4)]\n",
    "    z = [i - 2. for i in range(4)]\n",
    "    A = [[i * 4. + j for j in range(4)] for i in range(3)]\n",
    "    print(\"************************************\")\n",
    "\n",
    "    print(\"test function of Sum of vectors\")\n",
    "    print(\"x =\")\n",
    "    print(x)\n",
    "    print(\"y =\")\n",
    "    print(y)\n",
    "    print(\"add(x, y) =\")\n",
    "    print(add(x, y))\n",
    "    # print(x + y)\n",
    "    print(\"************************************\")"
   ]
  },
  {
   "cell_type": "code",
   "execution_count": null,
   "metadata": {
    "collapsed": true
   },
   "outputs": [],
   "source": []
  },
  {
   "cell_type": "code",
   "execution_count": null,
   "metadata": {
    "collapsed": true
   },
   "outputs": [],
   "source": []
  },
  {
   "cell_type": "code",
   "execution_count": null,
   "metadata": {
    "collapsed": true
   },
   "outputs": [],
   "source": []
  },
  {
   "cell_type": "code",
   "execution_count": null,
   "metadata": {
    "collapsed": true
   },
   "outputs": [],
   "source": []
  },
  {
   "cell_type": "code",
   "execution_count": null,
   "metadata": {
    "collapsed": true
   },
   "outputs": [],
   "source": []
  },
  {
   "cell_type": "code",
   "execution_count": null,
   "metadata": {
    "collapsed": true
   },
   "outputs": [],
   "source": []
  },
  {
   "cell_type": "code",
   "execution_count": null,
   "metadata": {
    "collapsed": true
   },
   "outputs": [],
   "source": []
  }
 ],
 "metadata": {
  "anaconda-cloud": {},
  "kernelspec": {
   "display_name": "Python [Root]",
   "language": "python",
   "name": "Python [Root]"
  },
  "language_info": {
   "codemirror_mode": {
    "name": "ipython",
    "version": 3
   },
   "file_extension": ".py",
   "mimetype": "text/x-python",
   "name": "python",
   "nbconvert_exporter": "python",
   "pygments_lexer": "ipython3",
   "version": "3.5.2"
  }
 },
 "nbformat": 4,
 "nbformat_minor": 0
}
