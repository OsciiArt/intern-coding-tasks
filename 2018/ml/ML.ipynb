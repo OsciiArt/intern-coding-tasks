{
 "cells": [
  {
   "cell_type": "code",
   "execution_count": 1,
   "metadata": {
    "collapsed": true
   },
   "outputs": [],
   "source": [
    "import math\n",
    "\n",
    "def add(x, y):\n",
    "    output = x.copy()\n",
    "    for i in range(len(x)):\n",
    "        output[i] += y[i]\n",
    "    return output"
   ]
  },
  {
   "cell_type": "code",
   "execution_count": 2,
   "metadata": {
    "collapsed": false
   },
   "outputs": [
    {
     "name": "stdout",
     "output_type": "stream",
     "text": [
      "************************************\n",
      "test function of Sum of vectors\n",
      "x =\n",
      "[0.0, 1.0, 2.0, 3.0]\n",
      "y =\n",
      "[4.0, 5.0, 6.0, 7.0]\n",
      "add(x, y) =\n",
      "[4.0, 6.0, 8.0, 10.0]\n",
      "************************************\n"
     ]
    }
   ],
   "source": [
    "    x = [i + 0. for i in range(4)]\n",
    "    y = [i + 4. for i in range(4)]\n",
    "    z = [i - 2. for i in range(4)]\n",
    "    A = [[i * 4. + j for j in range(4)] for i in range(3)]\n",
    "    print(\"************************************\")\n",
    "\n",
    "    print(\"test function of Sum of vectors\")\n",
    "    print(\"x =\")\n",
    "    print(x)\n",
    "    print(\"y =\")\n",
    "    print(y)\n",
    "    print(\"add(x, y) =\")\n",
    "    print(add(x, y))\n",
    "    # print(x + y)\n",
    "    print(\"************************************\")"
   ]
  },
  {
   "cell_type": "code",
   "execution_count": 3,
   "metadata": {
    "collapsed": true
   },
   "outputs": [],
   "source": [
    "def matmul(A, x):\n",
    "    \"\"\"\n",
    "    A: 行列\n",
    "    B: 列ベクトル\n",
    "    \n",
    "    \"\"\"\n",
    "    output = [0] * len(A)\n",
    "    for i in range(len(A)):\n",
    "        for j in range(len(A[0])):\n",
    "            output[i] += A[i][j]*x[j]\n",
    "    return output\n"
   ]
  },
  {
   "cell_type": "code",
   "execution_count": 4,
   "metadata": {
    "collapsed": false
   },
   "outputs": [
    {
     "name": "stdout",
     "output_type": "stream",
     "text": [
      "test function of Vector-matrix product\n",
      "A =\n",
      "[[0.0, 1.0, 2.0, 3.0], [4.0, 5.0, 6.0, 7.0], [8.0, 9.0, 10.0, 11.0]]\n",
      "x =\n",
      "[0.0, 1.0, 2.0, 3.0]\n",
      "matmul(A, x) =\n",
      "[14.0, 38.0, 62.0]\n",
      "************************************\n"
     ]
    }
   ],
   "source": [
    "print(\"test function of Vector-matrix product\")\n",
    "print(\"A =\")\n",
    "print(A)\n",
    "print(\"x =\")\n",
    "print(x)\n",
    "print(\"matmul(A, x) =\")\n",
    "print(matmul(A, x))\n",
    "# print(np.matmul(A, x))\n",
    "print(\"************************************\")"
   ]
  },
  {
   "cell_type": "code",
   "execution_count": 6,
   "metadata": {
    "collapsed": false
   },
   "outputs": [],
   "source": [
    "def transpose(A):\n",
    "    \"\"\"\n",
    "    A[i][j]のiとjを入れ替える\n",
    "    \"\"\"\n",
    "    # output = np.zeros([len(A[0]), len(A)])\n",
    "    output = [[0 for j in range(len(A))] for i in range(len(A[0]))]\n",
    "    for i in range(len(A)):\n",
    "        for j in range(len(A[0])):\n",
    "            output[j][i] = A[i][j]\n",
    "    return output"
   ]
  },
  {
   "cell_type": "code",
   "execution_count": 7,
   "metadata": {
    "collapsed": false
   },
   "outputs": [
    {
     "name": "stdout",
     "output_type": "stream",
     "text": [
      "test function of Transpose\n",
      "A =\n",
      "[[0.0, 1.0, 2.0, 3.0], [4.0, 5.0, 6.0, 7.0], [8.0, 9.0, 10.0, 11.0]]\n",
      "transpose(A) =\n",
      "[[0.0, 4.0, 8.0], [1.0, 5.0, 9.0], [2.0, 6.0, 10.0], [3.0, 7.0, 11.0]]\n",
      "************************************\n"
     ]
    }
   ],
   "source": [
    "print(\"test function of Transpose\")\n",
    "print(\"A =\")\n",
    "print(A)\n",
    "print(\"transpose(A) =\")\n",
    "print(transpose(A))\n",
    "# print(np.transpose(A))\n",
    "print(\"************************************\")"
   ]
  },
  {
   "cell_type": "code",
   "execution_count": 8,
   "metadata": {
    "collapsed": true
   },
   "outputs": [],
   "source": [
    "def relu(x):\n",
    "    output = x.copy()\n",
    "    for i in range(len(x)):\n",
    "        if x[i]>0: output[i] = x[i]\n",
    "        else: output[i] = 0\n",
    "    return output"
   ]
  },
  {
   "cell_type": "code",
   "execution_count": 9,
   "metadata": {
    "collapsed": false
   },
   "outputs": [
    {
     "name": "stdout",
     "output_type": "stream",
     "text": [
      "test function of ReLU\n",
      "z =\n",
      "[-2.0, -1.0, 0.0, 1.0]\n",
      "relu(z) =\n",
      "[0, 0, 0, 1.0]\n",
      "************************************\n"
     ]
    }
   ],
   "source": [
    "print(\"test function of ReLU\")\n",
    "print(\"z =\")\n",
    "print(z)\n",
    "print(\"relu(z) =\")\n",
    "print(relu(z))\n",
    "print(\"************************************\")"
   ]
  },
  {
   "cell_type": "code",
   "execution_count": 11,
   "metadata": {
    "collapsed": true
   },
   "outputs": [],
   "source": [
    "def softmax(x):\n",
    "    sum = 0.\n",
    "    for i in range(len(x)):\n",
    "        sum += math.e ** x[i]\n",
    "    output = x.copy()\n",
    "    for i in range(len(x)):\n",
    "        output[i] = math.e ** output[i] / sum\n",
    "    return output"
   ]
  },
  {
   "cell_type": "code",
   "execution_count": 12,
   "metadata": {
    "collapsed": false
   },
   "outputs": [
    {
     "name": "stdout",
     "output_type": "stream",
     "text": [
      "test function of Softmax\n",
      "x =\n",
      "[0.0, 1.0, 2.0, 3.0]\n",
      "softmax(x) =\n",
      "[0.03205860328008499, 0.08714431874203257, 0.23688281808991013, 0.6439142598879722]\n",
      "************************************\n"
     ]
    }
   ],
   "source": [
    "print(\"test function of Softmax\")\n",
    "print(\"x =\")\n",
    "print(x)\n",
    "print(\"softmax(x) =\")\n",
    "print(softmax(x))\n",
    "print(\"************************************\")"
   ]
  },
  {
   "cell_type": "code",
   "execution_count": 13,
   "metadata": {
    "collapsed": true
   },
   "outputs": [],
   "source": [
    "def backward(p, q):\n",
    "    output = p.copy()\n",
    "    for i in range(len(p)):\n",
    "        if q[i]>0:\n",
    "            output[i] = p[i]\n",
    "        else:\n",
    "            output[i] = 0\n",
    "    return output\n"
   ]
  },
  {
   "cell_type": "code",
   "execution_count": 14,
   "metadata": {
    "collapsed": false
   },
   "outputs": [
    {
     "name": "stdout",
     "output_type": "stream",
     "text": [
      "test function of Backward\n",
      "x =\n",
      "[0.0, 1.0, 2.0, 3.0]\n",
      "z =\n",
      "[-2.0, -1.0, 0.0, 1.0]\n",
      "backward(x, z) =\n",
      "[0, 0, 0, 3.0]\n",
      "************************************\n"
     ]
    }
   ],
   "source": [
    "print(\"test function of Backward\")\n",
    "print(\"x =\")\n",
    "print(x)\n",
    "print(\"z =\")\n",
    "print(z)\n",
    "print(\"backward(x, z) =\")\n",
    "print(backward(x, z))\n",
    "print(\"************************************\")"
   ]
  },
  {
   "cell_type": "code",
   "execution_count": 15,
   "metadata": {
    "collapsed": true
   },
   "outputs": [],
   "source": [
    "### 問題２\n",
    "def load_pgm(path):\n",
    "    lines = []\n",
    "    with open(path, 'r') as f:\n",
    "        for i, line in enumerate(f):\n",
    "            if i==0:\n",
    "                lines.append(line)\n",
    "            elif i==1 or i==2:\n",
    "                lines.extend(list(map(int, line.split())))\n",
    "            else:\n",
    "                lines.extend(list(map(float, line.split())))\n",
    "    # shape = lines[1:3]\n",
    "    color_range = lines[3]\n",
    "    factors = lines[4:]\n",
    "    for i in range(len(factors)):\n",
    "        factors[i] /= color_range\n",
    "    # factors = np.array(factors)\n",
    "    return factors"
   ]
  },
  {
   "cell_type": "code",
   "execution_count": 28,
   "metadata": {
    "collapsed": false
   },
   "outputs": [
    {
     "name": "stdout",
     "output_type": "stream",
     "text": [
      "loading files...\n"
     ]
    }
   ],
   "source": [
    "print(\"loading files...\")\n",
    "x = []\n",
    "for i in range(154):\n",
    "    x.append(load_pgm(\"pgm/{}.pgm\".format(i+1)))\n",
    "# print(x)"
   ]
  },
  {
   "cell_type": "code",
   "execution_count": 25,
   "metadata": {
    "collapsed": false
   },
   "outputs": [
    {
     "data": {
      "image/png": "[encoded data removed]",
      "text/plain": [
       "<matplotlib.figure.Figure at 0x1fa93706630>"
      ]
     },
     "metadata": {},
     "output_type": "display_data"
    }
   ],
   "source": [
    "# debug\n",
    "import numpy as np\n",
    "%matplotlib inline\n",
    "import matplotlib.pyplot as plt\n",
    "\n",
    "x_img = np.array(x[10])\n",
    "x_img = x_img.reshape(32,32)\n",
    "plt.imshow(x_img, cmap='gray')\n",
    "plt.show()\n"
   ]
  },
  {
   "cell_type": "code",
   "execution_count": 26,
   "metadata": {
    "collapsed": true
   },
   "outputs": [],
   "source": [
    "class Model():\n",
    "    def __init__(self, path):\n",
    "        H = 256\n",
    "        N = 1024\n",
    "        C = 23\n",
    "        lines = []\n",
    "        with open(path, 'r') as f:\n",
    "            for i, line in enumerate(f):\n",
    "                lines.extend(list(map(float, line.split())))\n",
    "        # lines = np.array(lines)\n",
    "        self.W_1 = lines[:H*N]\n",
    "        self.W_1 = [[self.W_1[i*N+j] for j in range(N)] for i in range(H)]\n",
    "        # self.W_1 = np.array(self.W_1)\n",
    "        self.b_1 = lines[H*N:H*N+H]\n",
    "        self.W_2 = lines[H*N+H:H*N+H+H*H]\n",
    "        self.W_2 = [[self.W_2[i*H+j] for j in range(H)] for i in range(H)]\n",
    "        # self.W_2 = np.array(self.W_2)\n",
    "        self.b_2 = lines[H*N+H+H*H:H*N+H+H*H+H]\n",
    "        self.W_3 = lines[H*N+H+H*H+H:H*N+H+H*H+H+C*H]\n",
    "        self.W_3 = [[self.W_3[i*H+j] for j in range(H)] for i in range(C)]\n",
    "        # self.W_3 = np.array(self.W_3)\n",
    "        self.b_3 = lines[H*N+H+H*H+H+C*H:H*N+H+H*H+H+C*H+C]\n",
    "\n",
    "    def predict(self, x):\n",
    "        self.a1 = \n",
    "        h1 =\n",
    "        self.a2 =\n",
    "        h2 = p1.relu(self.a2)\n",
    "        y = \n",
    "        fx = \n",
    "        return fx\n",
    "\n",
    "    def fgsm(self, x, y, epsilon0):\n",
    "        fx = self.predict(x)\n",
    "        minus_delta_t = [0] * 23\n",
    "        minus_delta_t[y-1] = -1\n",
    "        L_y = p1.add(minus_delta_t, fx)\n",
    "        L_h2 = p1.matmul(p1.transpose(self.W_3), L_y)\n",
    "        L_a2 = p1.backward(L_h2, self.a2)\n",
    "        L_h1 = p1.matmul(p1.transpose(self.W_2), L_a2)\n",
    "        L_a1 = p1.backward(L_h1, self.a1)\n",
    "        L_x = p1.matmul(p1.transpose(self.W_1), L_a1)\n",
    "\n",
    "        # print(\"L_x shape\", len(L_x))\n",
    "\n",
    "        output = x.copy()\n",
    "        for i in range(len(x)):\n",
    "            output[i] += sign(L_x[i]) * epsilon0\n",
    "            output[i] = max(output[i], 0)\n",
    "            output[i] = min(output[i], 1)\n",
    "            output[i] = float(int(output[i] * 255)) / 255\n",
    "        return output\n",
    "\n",
    "\n",
    "    def fgsm2(self, x, y, k):\n",
    "        fx = self.predict(x)\n",
    "        minus_delta_t = [0] * 23\n",
    "        minus_delta_t[y-1] = -1\n",
    "        L_y = p1.add(minus_delta_t, fx)\n",
    "        L_h2 = p1.matmul(p1.transpose(self.W_3), L_y)\n",
    "        L_a2 = p1.backward(L_h2, self.a2)\n",
    "        L_h1 = p1.matmul(p1.transpose(self.W_2), L_a2)\n",
    "        L_a1 = p1.backward(L_h1, self.a1)\n",
    "        L_x = p1.matmul(p1.transpose(self.W_1), L_a1)\n",
    "\n",
    "        L_x_abs = L_x.copy() # 摂動方向が(0, 1)からはみ出さない方向の値の絶対値を取る\n",
    "        for i in range(len(x)):\n",
    "            if x[i] == 0 and L_x_abs[i]<0:\n",
    "                L_x_abs[i] = 0\n",
    "            elif x[i] == 1 and L_x_abs[i]>0:\n",
    "                L_x_abs[i] = 0\n",
    "            elif x[i] == 1 and L_x_abs[i]<0:\n",
    "                L_x_abs[i] = -L_x_abs[i]\n",
    "        # print(x[:20])\n",
    "        # print(L_x[:20])\n",
    "        # print(L_x_abs[:20])\n",
    "        # print(\"L_x shape\", len(L_x))\n",
    "\n",
    "        L_x_abs_sort = heapq.nlargest(k, L_x_abs) # 摂動量の値を大きい順に並べる\n",
    "        # print(L_x_abs_sort)\n",
    "\n",
    "        output = x.copy()\n",
    "        for i in range(k): # 摂動方向の大きい順から値を変更していく\n",
    "            selected_index = L_x_abs.index(L_x_abs_sort[i])\n",
    "            # print(\"i:\", i)\n",
    "            # print(\"selected index:\",selected_index)\n",
    "            # print(\"x[selected_index]\", x[selected_index])\n",
    "            # print(\"L_x[selected_index]\", L_x[selected_index])\n",
    "            output[selected_index] = 1 - output[selected_index]\n",
    "\n",
    "        return output\n"
   ]
  },
  {
   "cell_type": "code",
   "execution_count": null,
   "metadata": {
    "collapsed": true
   },
   "outputs": [],
   "source": []
  },
  {
   "cell_type": "code",
   "execution_count": 33,
   "metadata": {
    "collapsed": false
   },
   "outputs": [
    {
     "name": "stdout",
     "output_type": "stream",
     "text": [
      "test start\n"
     ]
    }
   ],
   "source": [
    "print(\"test start\")\n",
    "\n",
    "# print(x)\n",
    "# x = x.reshape(32,32)\n",
    "# plt.imshow(x, cmap='gray')\n",
    "# plt.show()\n",
    "\n",
    "model = Model(\"param.txt\")\n"
   ]
  },
  {
   "cell_type": "code",
   "execution_count": 34,
   "metadata": {
    "collapsed": false
   },
   "outputs": [
    {
     "data": {
      "text/plain": [
       "[-0.0068510477,\n",
       " -0.0075278264,\n",
       " -0.020101998,\n",
       " -0.005969499,\n",
       " -0.0060048574,\n",
       " -0.018876655,\n",
       " -0.05960903,\n",
       " -0.0057461895,\n",
       " -0.0039568553,\n",
       " -0.00600517,\n",
       " -0.01215585,\n",
       " 0.020159964,\n",
       " -0.0056612403,\n",
       " -0.006001584,\n",
       " -0.0060048643,\n",
       " -0.0060030804,\n",
       " -0.00427639,\n",
       " 0.0074866065,\n",
       " -0.039897256,\n",
       " -0.006285873,\n",
       " -0.0029142315,\n",
       " -0.0047593215,\n",
       " -0.0035784224,\n",
       " -0.0040621087,\n",
       " 0.02270899,\n",
       " -0.0060053207,\n",
       " -0.0053260853,\n",
       " -0.00504274,\n",
       " 0.004140312,\n",
       " -0.005040889,\n",
       " 0.017720684,\n",
       " -0.0044960184,\n",
       " 0.002310123,\n",
       " 0.07250656,\n",
       " 0.0040929965,\n",
       " -0.0075649703,\n",
       " -0.006005284,\n",
       " -0.02178229,\n",
       " 0.01580703,\n",
       " -0.041668393,\n",
       " 0.046043333,\n",
       " -0.0049502235,\n",
       " -0.006000251,\n",
       " -0.0055131353,\n",
       " 0.026855929,\n",
       " -0.0045599006,\n",
       " 0.01171982,\n",
       " -0.030125385,\n",
       " -0.03733791,\n",
       " -0.005994193,\n",
       " -0.009244121,\n",
       " -0.0051242174,\n",
       " -0.0032056347,\n",
       " 0.031489465,\n",
       " -0.0025839028,\n",
       " -0.005109385,\n",
       " -0.005556774,\n",
       " -0.006003553,\n",
       " -0.017017636,\n",
       " -0.006752851,\n",
       " 0.009833382,\n",
       " -0.008572895,\n",
       " -0.005730074,\n",
       " 0.037865844,\n",
       " 0.008457964,\n",
       " -0.046954747,\n",
       " -0.00598863,\n",
       " -0.0034458786,\n",
       " -0.0076733604,\n",
       " 0.0,\n",
       " 0.03981127,\n",
       " -0.0043431385,\n",
       " -0.031587556,\n",
       " -0.0018073764,\n",
       " -0.048726484,\n",
       " 0.0,\n",
       " -0.005555815,\n",
       " -0.0046141166,\n",
       " -0.0062057013,\n",
       " 0.0202936,\n",
       " -0.020212717,\n",
       " 0.0020618525,\n",
       " -0.024263483,\n",
       " -0.001171525,\n",
       " 0.024410496,\n",
       " 0.024923716,\n",
       " 0.010952194,\n",
       " -0.0060017183,\n",
       " -0.028457506,\n",
       " -0.0041956427,\n",
       " -0.0033789573,\n",
       " 0.0065996745,\n",
       " -0.006002056,\n",
       " -0.008073009,\n",
       " -0.0035978963,\n",
       " 0.028732251,\n",
       " -0.0055338843,\n",
       " -0.00458051,\n",
       " -0.008312719,\n",
       " -0.007146532,\n",
       " -0.005691084,\n",
       " -0.024970368,\n",
       " 0.039153192,\n",
       " 0.03324609,\n",
       " -0.0043215216,\n",
       " -0.005337505,\n",
       " -0.0060052164,\n",
       " -0.0048825503,\n",
       " -0.005995047,\n",
       " -0.006961635,\n",
       " -0.0058892425,\n",
       " -0.0059847236,\n",
       " -0.0059879934,\n",
       " -0.0027797257,\n",
       " -0.006004963,\n",
       " -0.0063018175,\n",
       " 0.0,\n",
       " -0.008995503,\n",
       " 0.015942948,\n",
       " 0.041925292,\n",
       " -0.006429141,\n",
       " -0.0098263845,\n",
       " -0.007543709,\n",
       " -0.005490596,\n",
       " -0.01743112,\n",
       " -0.05061562,\n",
       " -0.014145759,\n",
       " -0.0076146726,\n",
       " -0.019693488,\n",
       " 0.005789729,\n",
       " -0.0060039805,\n",
       " -0.0045141727,\n",
       " -0.006004156,\n",
       " -0.005998128,\n",
       " -0.0057416377,\n",
       " -0.0053863563,\n",
       " -0.005352047,\n",
       " -0.0060045677,\n",
       " -0.0021942637,\n",
       " -0.0053631687,\n",
       " -0.0054049403,\n",
       " -0.00546935,\n",
       " -0.00711079,\n",
       " -0.006649641,\n",
       " -0.025842877,\n",
       " -0.0015829643,\n",
       " 0.03518852,\n",
       " -0.015703188,\n",
       " -0.0060050483,\n",
       " -0.0051556937,\n",
       " -0.008730571,\n",
       " -0.00818351,\n",
       " -0.0024855388,\n",
       " -0.0053459723,\n",
       " -0.007297841,\n",
       " -0.03582986,\n",
       " -0.0033096382,\n",
       " -0.036445983,\n",
       " -0.0067293355,\n",
       " 0.0018743249,\n",
       " 0.009146615,\n",
       " -0.0035345128,\n",
       " -0.0039867833,\n",
       " -0.0060050087,\n",
       " -0.01482693,\n",
       " -0.0059541897,\n",
       " -0.0060027908,\n",
       " -0.0062878975,\n",
       " -0.0030420022,\n",
       " -0.0022867443,\n",
       " -0.0042640083,\n",
       " -0.005225629,\n",
       " -0.02174755,\n",
       " -0.003899025,\n",
       " -0.004586206,\n",
       " -0.00015743874,\n",
       " 0.002984345,\n",
       " -0.004936941,\n",
       " -0.003597263,\n",
       " 0.0024878536,\n",
       " -0.006915387,\n",
       " 0.010643347,\n",
       " 0.0014132893,\n",
       " 0.023265725,\n",
       " -0.0060036555,\n",
       " -0.0059989947,\n",
       " -0.015615918,\n",
       " -0.0068399324,\n",
       " -0.0025881997,\n",
       " -0.004719037,\n",
       " -0.0059992718,\n",
       " 0.04269668,\n",
       " 0.008420871,\n",
       " -0.0022767338,\n",
       " -0.008861993,\n",
       " -0.008272556,\n",
       " -0.012237087,\n",
       " -0.030408414,\n",
       " -0.006000075,\n",
       " 0.008865498,\n",
       " 0.0,\n",
       " -0.03801281,\n",
       " 0.018759545,\n",
       " -0.0075283665,\n",
       " -0.007328335,\n",
       " -0.00737767,\n",
       " -0.047023788,\n",
       " -0.008713691,\n",
       " -0.0060052713,\n",
       " -0.006001476,\n",
       " -0.0037849585,\n",
       " -0.00088280346,\n",
       " -0.0030458944,\n",
       " -0.0016514945,\n",
       " -0.046052057,\n",
       " -0.006003066,\n",
       " 0.008960435,\n",
       " -0.010754147,\n",
       " -0.045122217,\n",
       " 0.025388766,\n",
       " -0.0060036927,\n",
       " 0.014855111,\n",
       " -0.006002961,\n",
       " -0.0057277665,\n",
       " -0.0038345791,\n",
       " -0.005736852,\n",
       " -0.0035105,\n",
       " 0.0022327432,\n",
       " -0.00829807,\n",
       " 0.01920346,\n",
       " -0.0077495486,\n",
       " -0.0072841165,\n",
       " -0.006002824,\n",
       " -0.0038477622,\n",
       " -0.005995679,\n",
       " -0.00865523,\n",
       " -0.0052719153,\n",
       " 0.0053893086,\n",
       " 0.008805371,\n",
       " -0.0038889078,\n",
       " 0.07235367,\n",
       " -0.0059791766,\n",
       " -0.0060015107,\n",
       " -0.0040591145,\n",
       " -0.006005261,\n",
       " -0.0066136587,\n",
       " 0.0,\n",
       " -0.0042480845,\n",
       " -0.0062909415,\n",
       " -0.006143558,\n",
       " -0.0059996457,\n",
       " -0.008413591,\n",
       " -0.0053841737,\n",
       " 0.0,\n",
       " -0.010733853,\n",
       " -0.0036324223]"
      ]
     },
     "execution_count": 34,
     "metadata": {},
     "output_type": "execute_result"
    }
   ],
   "source": [
    "a1 = matmul(model.W_1, x[0])\n",
    "a1 = \n",
    "h1 = \n",
    "self.a2 =\n",
    "h2 = p1.relu(self.a2)\n",
    "y = \n",
    "fx = \n",
    "\n",
    "\n"
   ]
  }
 ],
 "metadata": {
  "anaconda-cloud": {},
  "kernelspec": {
   "display_name": "Python [Root]",
   "language": "python",
   "name": "Python [Root]"
  },
  "language_info": {
   "codemirror_mode": {
    "name": "ipython",
    "version": 3
   },
   "file_extension": ".py",
   "mimetype": "text/x-python",
   "name": "python",
   "nbconvert_exporter": "python",
   "pygments_lexer": "ipython3",
   "version": "3.5.2"
  }
 },
 "nbformat": 4,
 "nbformat_minor": 0
}
